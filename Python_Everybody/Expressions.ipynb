{
 "metadata": {
  "language_info": {
   "codemirror_mode": {
    "name": "ipython",
    "version": 3
   },
   "file_extension": ".py",
   "mimetype": "text/x-python",
   "name": "python",
   "nbconvert_exporter": "python",
   "pygments_lexer": "ipython3",
   "version": "3.9.5"
  },
  "orig_nbformat": 2,
  "kernelspec": {
   "name": "python395jvsc74a57bd072461b08719ce225be709ec126b3561b2aaf3b4d14bfd5b57fa7142c13e52bfe",
   "display_name": "Python 3.9.5 64-bit"
  },
  "metadata": {
   "interpreter": {
    "hash": "72461b08719ce225be709ec126b3561b2aaf3b4d14bfd5b57fa7142c13e52bfe"
   }
  }
 },
 "nbformat": 4,
 "nbformat_minor": 2,
 "cells": [
  {
   "source": [
    "### Naming Test 1\n",
    "> This name isn't good to read and beside It's confusing too. If someone trying to understand your code after you it could take too much time let alone to understand the variable names and it only gets worse if the program was big. We should do better on naming variables."
   ],
   "cell_type": "markdown",
   "metadata": {}
  },
  {
   "cell_type": "code",
   "execution_count": 1,
   "metadata": {},
   "outputs": [
    {
     "output_type": "stream",
     "name": "stdout",
     "text": [
      "437.5\n"
     ]
    }
   ],
   "source": [
    "x1q3z9ahd = 35.0\r\n",
    "x1q3z9afd = 12.50\r\n",
    "x1q3p9afd = x1q3z9ahd * x1q3z9afd\r\n",
    "print(x1q3p9afd)"
   ]
  },
  {
   "source": [
    "### Naming Test 2\n",
    "> We could use name like this this is understandable But one this is missing what is these variables means like what is 35.0 represents or the 12.50. So, we could do better."
   ],
   "cell_type": "markdown",
   "metadata": {}
  },
  {
   "cell_type": "code",
   "execution_count": 12,
   "metadata": {},
   "outputs": [
    {
     "output_type": "stream",
     "name": "stdout",
     "text": [
      "437.5\n"
     ]
    }
   ],
   "source": [
    "a = 35.0\n",
    "b = 12.50\n",
    "c = a * b\n",
    "print(c)"
   ]
  },
  {
   "source": [
    "### Naming Test 3\n",
    "> Now it look better variables which can easily understandable and meaningful also represents perfectly with our program."
   ],
   "cell_type": "markdown",
   "metadata": {}
  },
  {
   "cell_type": "code",
   "execution_count": null,
   "metadata": {},
   "outputs": [],
   "source": [
    "hours = 35.0\n",
    "rate = 12.50\n",
    "pay = hours * rate\n",
    "print(pay)"
   ]
  },
  {
   "source": [
    "### Assignments statements\n",
    "> We assign a value to a variable using the assignment statement(=).\n",
    "\n",
    "> an assignments consists of an `expression on the right-hand side` and a variable to store the result.\n",
    "\n",
    "- A variable is a momory location used to store a value(0.6).\n",
    "- The right side is an expression.\n",
    "- once the expression is evaluated, the result is placed in (Assigned to)x.\n",
    "#### *Then*\n",
    "- The value stored in a variable can be updated by replacing the old value(0.6) to new value(0.936).\n",
    "- Once the expression is evaluated, the result is placed in (Assigned to) the variable on the left side(i.e. x)."
   ],
   "cell_type": "markdown",
   "metadata": {}
  },
  {
   "cell_type": "code",
   "execution_count": 18,
   "metadata": {},
   "outputs": [
    {
     "output_type": "stream",
     "name": "stdout",
     "text": [
      "0.9359999999999999\n"
     ]
    }
   ],
   "source": [
    "x=0.6\n",
    "x=3.9*x*(1-x)\n",
    "# (3.9*(x*(1-x))) - It works like this behind the scene.\n",
    "print(x)"
   ]
  },
  {
   "source": [
    "### Numeric expressions\n",
    "\n",
    "- Because of the lack of mathematical symbols on computer keyboards - we use `Computer-speak` to express the classic math operations.\n",
    "- Asterisk is multiplication.\n",
    "- Exponentiation (raise to a power) looks different\n",
    " than in math.\n",
    " \n",
    "| Operator | Operation |\n",
    "| ------ | ------ |\n",
    "| + | Addition |\n",
    "| - | Subtraction |\n",
    "| * | Multiplication |\n",
    "| / | Division |\n",
    "| ** | Power |\n",
    "| % | Reminder |"
   ],
   "cell_type": "markdown",
   "metadata": {}
  },
  {
   "cell_type": "code",
   "execution_count": 22,
   "metadata": {},
   "outputs": [
    {
     "output_type": "stream",
     "name": "stdout",
     "text": [
      "4\n"
     ]
    }
   ],
   "source": [
    "# Addition\n",
    "xx = 2\n",
    "xx = xx + 2 # Or we could use this instead xx += 2\n",
    "print(xx)"
   ]
  },
  {
   "cell_type": "code",
   "execution_count": 24,
   "metadata": {},
   "outputs": [
    {
     "output_type": "stream",
     "name": "stdout",
     "text": [
      "0\n"
     ]
    }
   ],
   "source": [
    "# Subtraction\n",
    "xx = 2\n",
    "xx = xx - 2 # Or we could use this instead xx -= 2\n",
    "print(xx)"
   ]
  },
  {
   "cell_type": "code",
   "execution_count": 25,
   "metadata": {},
   "outputs": [
    {
     "output_type": "stream",
     "name": "stdout",
     "text": [
      "5280\n"
     ]
    }
   ],
   "source": [
    "# Multiplication\n",
    "xx = 440\n",
    "xx = xx * 12 # Or we could use this instead xx *= 12\n",
    "print(xx)"
   ]
  },
  {
   "cell_type": "code",
   "execution_count": 28,
   "metadata": {},
   "outputs": [
    {
     "output_type": "stream",
     "name": "stdout",
     "text": [
      "5.28\n"
     ]
    }
   ],
   "source": [
    "# Division\n",
    "xx = 5280\n",
    "xx = xx / 1000 # Or we could use this instead xx /= 1000\n",
    "print(xx)"
   ]
  },
  {
   "cell_type": "code",
   "execution_count": 30,
   "metadata": {},
   "outputs": [
    {
     "output_type": "stream",
     "name": "stdout",
     "text": [
      "64\n"
     ]
    }
   ],
   "source": [
    "# Power\n",
    "print(4**3) # It means 4^3, i.e. 4 to the power 3."
   ]
  },
  {
   "cell_type": "code",
   "execution_count": 31,
   "metadata": {},
   "outputs": [
    {
     "output_type": "stream",
     "name": "stdout",
     "text": [
      "3\n"
     ]
    }
   ],
   "source": [
    "# Reminder\n",
    "xx = 23\n",
    "xx = xx % 5 # Or we could use this instead xx %= 5\n",
    "print(xx)"
   ]
  },
  {
   "source": [
    "### Order of evaluation\n",
    "- When we "
   ],
   "cell_type": "markdown",
   "metadata": {}
  }
 ]
}