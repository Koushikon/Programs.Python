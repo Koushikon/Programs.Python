{
 "metadata": {
  "language_info": {
   "codemirror_mode": {
    "name": "ipython",
    "version": 3
   },
   "file_extension": ".py",
   "mimetype": "text/x-python",
   "name": "python",
   "nbconvert_exporter": "python",
   "pygments_lexer": "ipython3",
   "version": "3.9.5"
  },
  "orig_nbformat": 2,
  "kernelspec": {
   "name": "python3",
   "display_name": "Python 3.9.5 64-bit"
  },
  "metadata": {
   "interpreter": {
    "hash": "72461b08719ce225be709ec126b3561b2aaf3b4d14bfd5b57fa7142c13e52bfe"
   }
  },
  "interpreter": {
   "hash": "72461b08719ce225be709ec126b3561b2aaf3b4d14bfd5b57fa7142c13e52bfe"
  }
 },
 "nbformat": 4,
 "nbformat_minor": 2,
 "cells": [
  {
   "source": [
    "### Repeated steps"
   ],
   "cell_type": "markdown",
   "metadata": {}
  },
  {
   "cell_type": "code",
   "execution_count": 1,
   "metadata": {},
   "outputs": [
    {
     "output_type": "stream",
     "name": "stdout",
     "text": [
      "5\n4\n3\n2\n1\nBlastoff\n0\n"
     ]
    }
   ],
   "source": [
    "n = 5\n",
    "while n > 0:\n",
    "    print(n)\n",
    "    n-=1\n",
    "print('Blastoff')\n",
    "print(n)"
   ]
  },
  {
   "cell_type": "code",
   "execution_count": null,
   "metadata": {
    "tags": [
     "outputPrepend"
    ]
   },
   "outputs": [],
   "source": [
    "n = 5\n",
    "while n > 0:\n",
    "    print('Leather')\n",
    "    print('Boot')\n",
    "print('Rain...')"
   ]
  },
  {
   "cell_type": "code",
   "execution_count": 3,
   "metadata": {},
   "outputs": [
    {
     "output_type": "stream",
     "name": "stdout",
     "text": [
      "Rain...\n"
     ]
    }
   ],
   "source": [
    "n = 0\n",
    "while n > 0:\n",
    "    print('Leather')\n",
    "    print('Boot')\n",
    "print('Rain...')"
   ]
  },
  {
   "cell_type": "code",
   "execution_count": 5,
   "metadata": {},
   "outputs": [
    {
     "output_type": "stream",
     "name": "stdout",
     "text": [
      "5\n",
      "6\n",
      "Done!\n"
     ]
    }
   ],
   "source": [
    "while True:\n",
    "    line = input('> ')\n",
    "    if line == 'done': break\n",
    "    print(line)\n",
    "print('Done!')"
   ]
  },
  {
   "cell_type": "code",
   "execution_count": 6,
   "metadata": {},
   "outputs": [
    {
     "output_type": "stream",
     "name": "stdout",
     "text": [
      "ops\n",
      "you \n",
      "Done!\n"
     ]
    }
   ],
   "source": [
    "while True:\n",
    "    line = input('> ')\n",
    "    if line[0] == '#': continue\n",
    "    if line == 'done': break\n",
    "    print(line)\n",
    "print('Done!')"
   ]
  },
  {
   "source": [
    "### Definite Loops"
   ],
   "cell_type": "markdown",
   "metadata": {}
  },
  {
   "cell_type": "code",
   "execution_count": 6,
   "metadata": {},
   "outputs": [
    {
     "output_type": "stream",
     "name": "stdout",
     "text": [
      "5\n7\n6\n12\n15\nBlastoff!\n"
     ]
    }
   ],
   "source": [
    "for i in [5, 7, 6, 12 , 15]:\n",
    "    print(i)\n",
    "print('Blastoff!')"
   ]
  },
  {
   "source": [
    "### Printing list"
   ],
   "cell_type": "markdown",
   "metadata": {}
  },
  {
   "cell_type": "code",
   "execution_count": 11,
   "metadata": {},
   "outputs": [
    {
     "output_type": "stream",
     "name": "stdout",
     "text": [
      "Hello Boby\nHello Lax\nHello Bikram\nHello Sunnyleo😂\nBoost\n"
     ]
    }
   ],
   "source": [
    "friends = ['Boby', 'Lax', 'Bikram', 'Sunnyleo😂']\n",
    "for friend in friends:\n",
    "    print('Hello', friend)\n",
    "print('Boost')"
   ]
  },
  {
   "source": [
    "### Printing elements and stops at `-1` value"
   ],
   "cell_type": "markdown",
   "metadata": {}
  },
  {
   "cell_type": "code",
   "execution_count": 10,
   "metadata": {},
   "outputs": [
    {
     "output_type": "stream",
     "name": "stdout",
     "text": [
      "22.5\n77.6\n100.1\nDone for now\n"
     ]
    }
   ],
   "source": [
    "for i in [22.5, 77.6, 100.1, -1, -22.31, -55.3]:\n",
    "    if i == -1: break\n",
    "    print(i)\n",
    "print('Done for now')"
   ]
  },
  {
   "source": [
    "### Printing elements"
   ],
   "cell_type": "markdown",
   "metadata": {}
  },
  {
   "cell_type": "code",
   "execution_count": 12,
   "metadata": {},
   "outputs": [
    {
     "output_type": "stream",
     "name": "stdout",
     "text": [
      "Before\n41\n9\n15\n20\nAfter\n"
     ]
    }
   ],
   "source": [
    "print('Before')\n",
    "for thing in [41, 9, 15, 20]:\n",
    "    print(thing)\n",
    "print('After')"
   ]
  },
  {
   "source": [
    "### Find largest"
   ],
   "cell_type": "markdown",
   "metadata": {}
  },
  {
   "cell_type": "code",
   "execution_count": 13,
   "metadata": {},
   "outputs": [
    {
     "output_type": "stream",
     "name": "stdout",
     "text": [
      "Before -1\n9 9\n41 41\n25 41\n61 61\n55 61\nAfter 61\n"
     ]
    }
   ],
   "source": [
    "largest_so_far = -1\n",
    "print('Before', largest_so_far)\n",
    "for num in [9, 41, 25, 61, 55]:\n",
    "    if num > largest_so_far:\n",
    "        largest_so_far = num\n",
    "    print(num, largest_so_far)\n",
    "print('After', largest_so_far)"
   ]
  },
  {
   "source": [
    "### Count elements\n",
    "- To count how many times we execute a loop, we introduce a counter variable `count` that starts with `0` and we add `1` to each time through the loop nad show the result."
   ],
   "cell_type": "markdown",
   "metadata": {}
  },
  {
   "cell_type": "code",
   "execution_count": 21,
   "metadata": {},
   "outputs": [
    {
     "output_type": "stream",
     "name": "stdout",
     "text": [
      "Before 0\n1 9\n2 11\n3 21\n4 56\n5 32\nAfter 5\n"
     ]
    }
   ],
   "source": [
    "count = 0\n",
    "print('Before', count)\n",
    "for i in [9, 11, 21, 56, 32]:\n",
    "    count += 1\n",
    "    print(count, i)\n",
    "print('After', count)"
   ]
  },
  {
   "source": [
    "### Total\n",
    "- To add up a value we encounter in a loop, we introduce a sum variable that starts at 0 and we add the value to the sum each time through the loop."
   ],
   "cell_type": "markdown",
   "metadata": {}
  },
  {
   "cell_type": "code",
   "execution_count": 23,
   "metadata": {},
   "outputs": [
    {
     "output_type": "stream",
     "name": "stdout",
     "text": [
      "Before 0\n9 9\n11 20\n21 41\n56 97\n32 129\nAfter 129\n"
     ]
    }
   ],
   "source": [
    "total = 0\n",
    "print('Before', total)\n",
    "for i in [9, 11, 21, 56, 32]:\n",
    "    total += i\n",
    "    print(i, total)\n",
    "print('After', total)"
   ]
  },
  {
   "source": [
    "### Total and Average"
   ],
   "cell_type": "markdown",
   "metadata": {}
  },
  {
   "cell_type": "code",
   "execution_count": 28,
   "metadata": {},
   "outputs": [
    {
     "output_type": "stream",
     "name": "stdout",
     "text": [
      "Before 0\n1 24 24\n2 16 40\n3 36 76\n4 24 100\n5 50 150\nAfter 150 30.0\n"
     ]
    }
   ],
   "source": [
    "total = 0\n",
    "count = 0\n",
    "print('Before', total)\n",
    "for i in [24, 16, 36, 24, 50]:\n",
    "    total += i\n",
    "    count += 1\n",
    "    print(count, i, total)\n",
    "print('After', total, total / count)"
   ]
  },
  {
   "source": [
    "### Count, Total, Average"
   ],
   "cell_type": "markdown",
   "metadata": {}
  },
  {
   "cell_type": "code",
   "execution_count": 1,
   "metadata": {},
   "outputs": [
    {
     "output_type": "stream",
     "name": "stdout",
     "text": [
      "Before 0 0\n1 24 24\n2 16 40\n3 36 76\n4 24 100\n5 50 150\nAfter 5 150 30.0\n"
     ]
    }
   ],
   "source": [
    "total = 0\n",
    "count = 0\n",
    "print('Before', count, total)\n",
    "for i in [24, 16, 36, 24, 50]:\n",
    "    total += i\n",
    "    count += 1\n",
    "    print(count, i, total)\n",
    "print('After', count, total, total / count)"
   ]
  },
  {
   "source": [
    "### Filtering in a loop"
   ],
   "cell_type": "markdown",
   "metadata": {}
  },
  {
   "cell_type": "code",
   "execution_count": 29,
   "metadata": {},
   "outputs": [
    {
     "output_type": "stream",
     "name": "stdout",
     "text": [
      "before\n24\n36\n50\nAfter\n"
     ]
    }
   ],
   "source": [
    "print('before')\n",
    "for value in [24, 16, 36, 4, 50]:\n",
    "    if value > 20:\n",
    "        print(value)\n",
    "print('After')"
   ]
  },
  {
   "source": [
    "### Search using Boolean variable"
   ],
   "cell_type": "markdown",
   "metadata": {}
  },
  {
   "cell_type": "code",
   "execution_count": 30,
   "metadata": {},
   "outputs": [
    {
     "output_type": "stream",
     "name": "stdout",
     "text": [
      "Before False\nFalse 24\nFalse 16\nFalse 36\nTrue 4\nTrue 50\nAfter True\n"
     ]
    }
   ],
   "source": [
    "found = False\n",
    "print('Before', found)\n",
    "for value in [24, 16, 36, 4, 50]:\n",
    "    if value == 4:\n",
    "        found = True\n",
    "    print(found, value)\n",
    "print('After', found)"
   ]
  },
  {
   "cell_type": "code",
   "execution_count": 32,
   "metadata": {},
   "outputs": [
    {
     "output_type": "stream",
     "name": "stdout",
     "text": [
      "Before False\nFalse 24\nFalse 16\nFalse 36\nAfter True\n"
     ]
    }
   ],
   "source": [
    "found = False\n",
    "print('Before', found)\n",
    "for value in [24, 16, 36, 4, 50]:\n",
    "    if value == 4:\n",
    "        found = True\n",
    "        break\n",
    "    print(found, value)\n",
    "print('After', found)"
   ]
  },
  {
   "source": [
    "### Find the smallest number\n",
    "- We switched the varible name to `smallest_so_far` and switch the `>` to `<`\n",
    "- How would we change this to make it find the smallest value in the list?"
   ],
   "cell_type": "markdown",
   "metadata": {}
  },
  {
   "cell_type": "code",
   "execution_count": 33,
   "metadata": {},
   "outputs": [
    {
     "output_type": "stream",
     "name": "stdout",
     "text": [
      "Before -1\n9 -1\n41 -1\n25 -1\n61 -1\n55 -1\nAfter -1\n"
     ]
    }
   ],
   "source": [
    "# This is trick question there's a flaw in this code\n",
    "smallest_so_far = -1\n",
    "print('Before', smallest_so_far)\n",
    "for num in [9, 41, 25, 61, 55]:\n",
    "    if num < smallest_so_far:\n",
    "        smallest_so_far = num\n",
    "    print(num, smallest_so_far)\n",
    "print('After', smallest_so_far)"
   ]
  },
  {
   "source": [
    "#### Find the smallest number works with `Negative` and `positive` values"
   ],
   "cell_type": "markdown",
   "metadata": {}
  },
  {
   "cell_type": "code",
   "execution_count": 37,
   "metadata": {},
   "outputs": [
    {
     "output_type": "stream",
     "name": "stdout",
     "text": [
      "Before None\n9 9\n41 9\n3 3\n61 3\n55 3\nAfter 3\n"
     ]
    }
   ],
   "source": [
    "smallest_so_far = None\n",
    "print('Before', smallest_so_far)\n",
    "for num in [9, 41, 3, 61, 55]:\n",
    "    if smallest_so_far == None:\n",
    "        smallest_so_far = num\n",
    "    if num < smallest_so_far:\n",
    "        smallest_so_far = num\n",
    "    print(num, smallest_so_far)\n",
    "print('After', smallest_so_far)"
   ]
  },
  {
   "cell_type": "code",
   "execution_count": 39,
   "metadata": {},
   "outputs": [
    {
     "output_type": "stream",
     "name": "stdout",
     "text": [
      "Before None\n9 9\n41 41\n3 41\n61 61\n55 61\nAfter 61\n"
     ]
    }
   ],
   "source": [
    "largest_so_far = None\n",
    "print('Before', largest_so_far)\n",
    "for num in [9, 41, 3, 61, 55]:\n",
    "    if largest_so_far == None:\n",
    "        largest_so_far = num\n",
    "    if num > largest_so_far:\n",
    "        largest_so_far = num\n",
    "    print(num, largest_so_far)\n",
    "print('After', largest_so_far)"
   ]
  },
  {
   "source": [
    "### The `is` and `is not` Operators"
   ],
   "cell_type": "markdown",
   "metadata": {}
  },
  {
   "cell_type": "code",
   "execution_count": 40,
   "metadata": {},
   "outputs": [
    {
     "output_type": "stream",
     "name": "stdout",
     "text": [
      "Before\n3 3\n3 41\n3 12\n3 9\n3 74\n3 15\nAfter 3\n"
     ]
    }
   ],
   "source": [
    "smallest = None\n",
    "print('Before')\n",
    "for value in [3, 41, 12, 9, 74, 15]:\n",
    "    if smallest is None:\n",
    "        smallest = value\n",
    "    elif value < smallest:\n",
    "        smallest = value\n",
    "    print(smallest, value)\n",
    "print('After', smallest)"
   ]
  },
  {
   "cell_type": "code",
   "execution_count": null,
   "metadata": {},
   "outputs": [],
   "source": []
  }
 ]
}