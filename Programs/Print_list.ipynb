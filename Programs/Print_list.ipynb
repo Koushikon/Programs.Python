{
 "cells": [
  {
   "cell_type": "code",
   "execution_count": 2,
   "metadata": {},
   "outputs": [],
   "source": [
    "store = 'From stephen.marquard@uct.ac.za Sat Jan  5 09:14:16 2008'\r\n",
    "lst = store.split()\r\n",
    "size = len(lst)"
   ]
  },
  {
   "cell_type": "code",
   "execution_count": 4,
   "metadata": {},
   "outputs": [
    {
     "name": "stdout",
     "output_type": "stream",
     "text": [
      "['From', 'stephen.marquard@uct.ac.za', 'Sat', 'Jan', '5', '09:14:16', '2008']\n"
     ]
    }
   ],
   "source": [
    "# To print out complete list\r\n",
    "print(lst)"
   ]
  },
  {
   "cell_type": "code",
   "execution_count": 5,
   "metadata": {},
   "outputs": [
    {
     "name": "stdout",
     "output_type": "stream",
     "text": [
      "Sat\n"
     ]
    }
   ],
   "source": [
    "# Or use indexing to print specific part by index\r\n",
    "print(lst[2])"
   ]
  },
  {
   "cell_type": "code",
   "execution_count": 6,
   "metadata": {},
   "outputs": [
    {
     "name": "stdout",
     "output_type": "stream",
     "text": [
      "Reverse: ['2008', '09:14:16', '5', 'Jan', 'Sat', 'stephen.marquard@uct.ac.za', 'From']\n"
     ]
    }
   ],
   "source": [
    "# Slicing to print all elements of list in Reverse order\r\n",
    "print('Reverse:', lst[::-1])"
   ]
  },
  {
   "cell_type": "code",
   "execution_count": 7,
   "metadata": {},
   "outputs": [
    {
     "name": "stdout",
     "output_type": "stream",
     "text": [
      "['Sat', 'Jan', '5']\n"
     ]
    }
   ],
   "source": [
    "# Or use slicing to prints out middle elements.\r\n",
    "print(lst[2:5])"
   ]
  },
  {
   "cell_type": "code",
   "execution_count": 8,
   "metadata": {},
   "outputs": [
    {
     "name": "stdout",
     "output_type": "stream",
     "text": [
      "From | stephen.marquard@uct.ac.za | Sat | Jan | 5 | 09:14:16 | 2008 | "
     ]
    }
   ],
   "source": [
    "# Or Using for loop to print elements\r\n",
    "for element in lst:\r\n",
    "    print(element, end=' | ')"
   ]
  },
  {
   "cell_type": "code",
   "execution_count": 9,
   "metadata": {},
   "outputs": [
    {
     "name": "stdout",
     "output_type": "stream",
     "text": [
      "From = stephen.marquard@uct.ac.za = Sat = Jan = 5 = 09:14:16 = 2008 = "
     ]
    }
   ],
   "source": [
    "# Or Using for loop another implementation to print elements\r\n",
    "element = 0\r\n",
    "for element in range(size):\r\n",
    "    print(lst[element], end=' = ')"
   ]
  },
  {
   "cell_type": "code",
   "execution_count": 10,
   "metadata": {},
   "outputs": [
    {
     "name": "stdout",
     "output_type": "stream",
     "text": [
      "From - stephen.marquard@uct.ac.za - Sat - Jan - 5 - 09:14:16 - 2008 - "
     ]
    }
   ],
   "source": [
    "# Or using while loop to print elements\r\n",
    "element = 0\r\n",
    "while element < size:\r\n",
    "    print(lst[element], end=' - ')\r\n",
    "    element += 1"
   ]
  },
  {
   "cell_type": "code",
   "execution_count": null,
   "metadata": {},
   "outputs": [],
   "source": []
  }
 ],
 "metadata": {
  "interpreter": {
   "hash": "72461b08719ce225be709ec126b3561b2aaf3b4d14bfd5b57fa7142c13e52bfe"
  },
  "kernelspec": {
   "display_name": "Python 3.9.5 64-bit",
   "name": "python3"
  },
  "language_info": {
   "codemirror_mode": {
    "name": "ipython",
    "version": 3
   },
   "file_extension": ".py",
   "mimetype": "text/x-python",
   "name": "python",
   "nbconvert_exporter": "python",
   "pygments_lexer": "ipython3",
   "version": "3.9.5"
  },
  "orig_nbformat": 4
 },
 "nbformat": 4,
 "nbformat_minor": 2
}