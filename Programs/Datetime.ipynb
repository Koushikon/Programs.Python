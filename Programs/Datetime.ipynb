{
 "cells": [
  {
   "cell_type": "code",
   "execution_count": 6,
   "source": [
    "from datetime import date"
   ],
   "outputs": [],
   "metadata": {}
  },
  {
   "cell_type": "code",
   "execution_count": 7,
   "source": [
    "today = date.today()\r\n",
    "print(\"Today's date:\", today)"
   ],
   "outputs": [
    {
     "output_type": "stream",
     "name": "stdout",
     "text": [
      "Today's date: 2021-07-09\n"
     ]
    }
   ],
   "metadata": {}
  },
  {
   "cell_type": "code",
   "execution_count": 8,
   "source": [
    "# dd/mm/YY\r\n",
    "d1 = today.strftime(\"%d/%m/%Y\")\r\n",
    "print(\"d1 =\", d1)"
   ],
   "outputs": [
    {
     "output_type": "stream",
     "name": "stdout",
     "text": [
      "d1 = 09/07/2021\n"
     ]
    }
   ],
   "metadata": {}
  },
  {
   "cell_type": "code",
   "execution_count": 9,
   "source": [
    "# Textual month, day and year\t\r\n",
    "d2 = today.strftime(\"%B %d, %Y\")\r\n",
    "print(\"d2 =\", d2)"
   ],
   "outputs": [
    {
     "output_type": "stream",
     "name": "stdout",
     "text": [
      "d2 = July 09, 2021\n"
     ]
    }
   ],
   "metadata": {}
  },
  {
   "cell_type": "code",
   "execution_count": 10,
   "source": [
    "# mm/dd/y\r\n",
    "d3 = today.strftime(\"%m/%d/%y\")\r\n",
    "print(\"d3 =\", d3)"
   ],
   "outputs": [
    {
     "output_type": "stream",
     "name": "stdout",
     "text": [
      "d3 = 07/09/21\n"
     ]
    }
   ],
   "metadata": {}
  },
  {
   "cell_type": "code",
   "execution_count": 11,
   "source": [
    "# Month abbreviation, day and year\t\r\n",
    "d4 = today.strftime(\"%b-%d-%Y\")\r\n",
    "print(\"d4 =\", d4)"
   ],
   "outputs": [
    {
     "output_type": "stream",
     "name": "stdout",
     "text": [
      "d4 = Jul-09-2021\n"
     ]
    }
   ],
   "metadata": {}
  },
  {
   "cell_type": "code",
   "execution_count": 12,
   "source": [
    "from datetime import datetime"
   ],
   "outputs": [],
   "metadata": {}
  },
  {
   "cell_type": "code",
   "execution_count": 13,
   "source": [
    "# datetime object containing current date and time\r\n",
    "now = datetime.now()\r\n",
    "print(\"now =\", now)"
   ],
   "outputs": [
    {
     "output_type": "stream",
     "name": "stdout",
     "text": [
      "now = 2021-07-09 05:46:02.895166\n"
     ]
    }
   ],
   "metadata": {}
  },
  {
   "cell_type": "code",
   "execution_count": 14,
   "source": [
    "# dd/mm/YY H:M:S\r\n",
    "dt_string = now.strftime(\"%d/%m/%Y %H:%M:%S\")\r\n",
    "print(\"date and time =\", dt_string)"
   ],
   "outputs": [
    {
     "output_type": "stream",
     "name": "stdout",
     "text": [
      "date and time = 09/07/2021 05:46:02\n"
     ]
    }
   ],
   "metadata": {}
  },
  {
   "cell_type": "code",
   "execution_count": null,
   "source": [],
   "outputs": [],
   "metadata": {}
  }
 ],
 "metadata": {
  "orig_nbformat": 4,
  "language_info": {
   "name": "python"
  }
 },
 "nbformat": 4,
 "nbformat_minor": 2
}