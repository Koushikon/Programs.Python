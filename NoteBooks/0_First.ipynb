{
  "nbformat": 4,
  "nbformat_minor": 0,
  "metadata": {
    "colab": {
      "name": "0.First.ipynb",
      "provenance": [],
      "collapsed_sections": []
    },
    "kernelspec": {
      "name": "python395jvsc74a57bd072461b08719ce225be709ec126b3561b2aaf3b4d14bfd5b57fa7142c13e52bfe",
      "display_name": "Python 3.9.5 64-bit"
    },
    "language_info": {
      "name": "python",
      "version": "3.9.5"
    },
    "metadata": {
      "interpreter": {
        "hash": "72461b08719ce225be709ec126b3561b2aaf3b4d14bfd5b57fa7142c13e52bfe"
      }
    }
  },
  "cells": [
    {
      "cell_type": "markdown",
      "metadata": {
        "id": "JFxBK3OHuaci"
      },
      "source": [
        "### Frist Notebook\n",
        "There's My First Python Code in Google Colab"
      ]
    },
    {
      "cell_type": "code",
      "metadata": {
        "colab": {
          "base_uri": "https://localhost:8080/"
        },
        "id": "-Vm6ejIEt6rP",
        "outputId": "968dba49-bdb5-4dd6-bbf2-1b2193db95ed"
      },
      "source": [
        "name=\"Koushik\"\n",
        "print(\"Hello\"+\" Nice to Meet you \"+name)"
      ],
      "execution_count": 1,
      "outputs": [
        {
          "output_type": "stream",
          "name": "stdout",
          "text": [
            "Hello Nice to Meet you Koushik\n"
          ]
        }
      ]
    },
    {
      "cell_type": "code",
      "metadata": {
        "colab": {
          "base_uri": "https://localhost:8080/"
        },
        "id": "1lbRpvXSLWXT",
        "outputId": "294fd4e3-fe0a-4f90-9454-c2a5ae8a835d"
      },
      "source": [
        "num = 24\n",
        "print(\"Hello\", num)"
      ],
      "execution_count": 2,
      "outputs": [
        {
          "output_type": "stream",
          "name": "stdout",
          "text": [
            "Hello 24\n"
          ]
        }
      ]
    },
    {
      "source": [
        "### Shows the type of a variable"
      ],
      "cell_type": "markdown",
      "metadata": {}
    },
    {
      "cell_type": "code",
      "metadata": {
        "colab": {
          "base_uri": "https://localhost:8080/"
        },
        "id": "PJYvalkpNDYM",
        "outputId": "95d77500-5e5f-48e0-c3ae-6a5bafa05dfd"
      },
      "source": [
        "message = \"Good morning\"\n",
        "num = 85\n",
        "pi = 3.14159\n",
        "\n",
        "print(type(message))  # This will return a string\n",
        "print(type(num))  # This will return an integer\n",
        "print(type(pi))  # This will return a float"
      ],
      "execution_count": 3,
      "outputs": [
        {
          "output_type": "stream",
          "name": "stdout",
          "text": [
            "<class 'str'>\n<class 'int'>\n<class 'float'>\n"
          ]
        }
      ]
    },
    {
      "source": [
        "### Creating list in python"
      ],
      "cell_type": "markdown",
      "metadata": {}
    },
    {
      "cell_type": "code",
      "metadata": {
        "id": "Ke1RnGnJOWcS"
      },
      "source": [
        "A = [ ] # This is a blank list variable\n",
        "B = [1, 23, 45, 67] # this list creates an initial list of 4 numbers.\n",
        "C = [2, 4, 'john'] # lists can contain different variable types."
      ],
      "execution_count": 5,
      "outputs": []
    },
    {
      "cell_type": "code",
      "execution_count": 1,
      "metadata": {},
      "outputs": [],
      "source": []
    },
    {
      "cell_type": "code",
      "execution_count": null,
      "metadata": {},
      "outputs": [],
      "source": [
        "print(3*3)\n",
        "print(3**3)"
      ]
    },
    {
      "cell_type": "code",
      "execution_count": null,
      "metadata": {},
      "outputs": [],
      "source": [
        "input('input something')"
      ]
    },
    {
      "source": [
        "**One**\n",
        "two"
      ],
      "cell_type": "markdown",
      "metadata": {}
    }
  ]
}