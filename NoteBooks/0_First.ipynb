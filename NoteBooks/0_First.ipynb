{
  "nbformat": 4,
  "nbformat_minor": 0,
  "metadata": {
    "colab": {
      "name": "0.First.ipynb",
      "provenance": [],
      "collapsed_sections": []
    },
    "kernelspec": {
      "name": "python395jvsc74a57bd072461b08719ce225be709ec126b3561b2aaf3b4d14bfd5b57fa7142c13e52bfe",
      "display_name": "Python 3.9.5 64-bit"
    },
    "language_info": {
      "name": "python",
      "version": "3.9.5"
    },
    "metadata": {
      "interpreter": {
        "hash": "72461b08719ce225be709ec126b3561b2aaf3b4d14bfd5b57fa7142c13e52bfe"
      }
    }
  },
  "cells": [
    {
      "cell_type": "markdown",
      "metadata": {
        "id": "JFxBK3OHuaci"
      },
      "source": [
        "### Frist Notebook\n",
        "There's My First Python Code in Google Colab"
      ]
    },
    {
      "cell_type": "code",
      "metadata": {
        "colab": {
          "base_uri": "https://localhost:8080/"
        },
        "id": "-Vm6ejIEt6rP",
        "outputId": "968dba49-bdb5-4dd6-bbf2-1b2193db95ed"
      },
      "source": [
        "name=\"Koushik\"\n",
        "print(\"Hello\"+\" Nice to Meet you \"+name)"
      ],
      "execution_count": 1,
      "outputs": [
        {
          "output_type": "stream",
          "name": "stdout",
          "text": [
            "Hello Nice to Meet you Koushik\n"
          ]
        }
      ]
    },
    {
      "cell_type": "code",
      "metadata": {
        "colab": {
          "base_uri": "https://localhost:8080/"
        },
        "id": "1lbRpvXSLWXT",
        "outputId": "294fd4e3-fe0a-4f90-9454-c2a5ae8a835d"
      },
      "source": [
        "num = 24\n",
        "print(\"Hello\", num)"
      ],
      "execution_count": 2,
      "outputs": [
        {
          "output_type": "stream",
          "name": "stdout",
          "text": [
            "Hello 24\n"
          ]
        }
      ]
    },
    {
      "source": [
        "### Shows the type of a variable"
      ],
      "cell_type": "markdown",
      "metadata": {}
    },
    {
      "cell_type": "code",
      "metadata": {
        "colab": {
          "base_uri": "https://localhost:8080/"
        },
        "id": "PJYvalkpNDYM",
        "outputId": "95d77500-5e5f-48e0-c3ae-6a5bafa05dfd"
      },
      "source": [
        "message = \"Good morning\"\n",
        "num = 85\n",
        "pi = 3.14159\n",
        "status =False\n",
        "\n",
        "print(type(message))  # This will return a string\n",
        "print(type(num))  # This will return an integer\n",
        "print(type(pi))  # This will return a float\n",
        "print(type(status)) # This will return a bool"
      ],
      "execution_count": 1,
      "outputs": [
        {
          "output_type": "stream",
          "name": "stdout",
          "text": [
            "<class 'str'>\n<class 'int'>\n<class 'float'>\n<class 'bool'>\n"
          ]
        }
      ]
    },
    {
      "source": [
        "### Creating list in python"
      ],
      "cell_type": "markdown",
      "metadata": {}
    },
    {
      "cell_type": "code",
      "metadata": {
        "id": "Ke1RnGnJOWcS"
      },
      "source": [
        "A = [ ] # This is a blank list variable\n",
        "B = [1, 23, 45, 67] # this list creates an initial list of 4 numbers.\n",
        "C = [2, 4, 'john'] # lists can contain different variable types."
      ],
      "execution_count": 3,
      "outputs": []
    },
    {
      "cell_type": "code",
      "execution_count": 4,
      "metadata": {},
      "outputs": [
        {
          "output_type": "stream",
          "name": "stdout",
          "text": [
            "9\n27\n"
          ]
        }
      ],
      "source": [
        "print(3*3) # It means 3 multiplies with 3 ,i.e. (9)\n",
        "print(3**3) # It means 3 and power of 3 ,i.e. (27)"
      ]
    },
    {
      "cell_type": "code",
      "execution_count": 6,
      "metadata": {},
      "outputs": [
        {
          "output_type": "execute_result",
          "data": {
            "text/plain": [
              "'h'"
            ]
          },
          "metadata": {},
          "execution_count": 6
        }
      ],
      "source": [
        "# It takes an input. It could be anything String, Int, Boolean, Float\n",
        "input('input something? ')"
      ]
    },
    {
      "cell_type": "code",
      "execution_count": 14,
      "metadata": {},
      "outputs": [
        {
          "output_type": "error",
          "ename": "SyntaxError",
          "evalue": "invalid syntax (<ipython-input-14-d078494c561f>, line 3)",
          "traceback": [
            "\u001b[1;36m  File \u001b[1;32m\"<ipython-input-14-d078494c561f>\"\u001b[1;36m, line \u001b[1;32m3\u001b[0m\n\u001b[1;33m    hour+=(int)andHour\u001b[0m\n\u001b[1;37m               ^\u001b[0m\n\u001b[1;31mSyntaxError\u001b[0m\u001b[1;31m:\u001b[0m invalid syntax\n"
          ]
        }
      ],
      "source": [
        "hour =11\n",
        "andHour = input('input something? ')\n",
        "hour+=(int)andHour"
      ]
    },
    {
      "cell_type": "code",
      "execution_count": null,
      "metadata": {},
      "outputs": [],
      "source": []
    }
  ]
}