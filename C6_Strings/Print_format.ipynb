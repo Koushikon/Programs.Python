{
 "metadata": {
  "language_info": {
   "codemirror_mode": {
    "name": "ipython",
    "version": 3
   },
   "file_extension": ".py",
   "mimetype": "text/x-python",
   "name": "python",
   "nbconvert_exporter": "python",
   "pygments_lexer": "ipython3",
   "version": "3.9.5"
  },
  "orig_nbformat": 4,
  "kernelspec": {
   "name": "python3",
   "display_name": "Python 3.9.5 64-bit"
  },
  "interpreter": {
   "hash": "72461b08719ce225be709ec126b3561b2aaf3b4d14bfd5b57fa7142c13e52bfe"
  }
 },
 "nbformat": 4,
 "nbformat_minor": 2,
 "cells": [
  {
   "source": [
    "### Formatting with the .format() method"
   ],
   "cell_type": "markdown",
   "metadata": {}
  },
  {
   "cell_type": "code",
   "execution_count": 8,
   "metadata": {},
   "outputs": [
    {
     "output_type": "stream",
     "name": "stdout",
     "text": [
      "1st: Wise 2nd: Man's 3rd: Grandchild\n1st: Dubbed 2nd: Anime 3rd: Comment\n"
     ]
    }
   ],
   "source": [
    "first, second, third = \"Wise Man's Grandchild\".split()\n",
    "\n",
    "print('1st: {} 2nd: {} 3rd: {}'.format(first, second, third))\n",
    "print('1st: {} 2nd: {} 3rd: {}'.format('Dubbed', 'Anime', 'Comment'))"
   ]
  },
  {
   "cell_type": "code",
   "execution_count": 19,
   "metadata": {},
   "outputs": [
    {
     "output_type": "stream",
     "name": "stdout",
     "text": [
      "1st: Wise 2nd: Wise 3rd: Wise\n1st: Wise 2nd: Man's 3rd: Comment\n"
     ]
    }
   ],
   "source": [
    "print('1st: {0} 2nd: {0} 3rd: {0}'.format(first, second, third))\n",
    "print('1st: {f} 2nd: {g} 3rd: {h}'.format(f = first, g = second, h = 'Comment'))"
   ]
  },
  {
   "cell_type": "code",
   "execution_count": 27,
   "metadata": {},
   "outputs": [
    {
     "output_type": "stream",
     "name": "stdout",
     "text": [
      "1st: Wise 2nd: Man's 3rd: Commant\n"
     ]
    }
   ],
   "source": [
    "print(f\"1st: {first} 2nd: {second} 3rd: {'Commant'}\")"
   ]
  },
  {
   "cell_type": "code",
   "execution_count": 29,
   "metadata": {},
   "outputs": [
    {
     "output_type": "stream",
     "name": "stdout",
     "text": [
      "Vim 5007 years old.\n"
     ]
    }
   ],
   "source": [
    "name = 'Vim'\n",
    "age = 5007\n",
    "\n",
    "print(f'{name} {age} years old.')"
   ]
  },
  {
   "source": [
    "## Float formatting follows \"`{value:width.precision f}`\""
   ],
   "cell_type": "markdown",
   "metadata": {}
  },
  {
   "cell_type": "code",
   "execution_count": 3,
   "metadata": {},
   "outputs": [
    {
     "output_type": "execute_result",
     "data": {
      "text/plain": [
       "1.3333333333333333"
      ]
     },
     "metadata": {},
     "execution_count": 3
    }
   ],
   "source": [
    "result = 100/75 \n",
    "result"
   ]
  },
  {
   "cell_type": "code",
   "execution_count": 5,
   "metadata": {},
   "outputs": [
    {
     "output_type": "stream",
     "name": "stdout",
     "text": [
      "The result is: 1.3333333333333333\n"
     ]
    }
   ],
   "source": [
    "print('The result is: {r}'.format(r = result))"
   ]
  },
  {
   "cell_type": "code",
   "execution_count": 7,
   "metadata": {},
   "outputs": [
    {
     "output_type": "stream",
     "name": "stdout",
     "text": [
      "The result is: 1.333\n"
     ]
    }
   ],
   "source": [
    "print('The result is: {r:1.3f}'.format(r = result))"
   ]
  },
  {
   "cell_type": "code",
   "execution_count": null,
   "metadata": {},
   "outputs": [],
   "source": [
    "print('The result is: {r:5.3f}'.format(r = result))"
   ]
  },
  {
   "cell_type": "code",
   "execution_count": 12,
   "metadata": {},
   "outputs": [
    {
     "output_type": "stream",
     "name": "stdout",
     "text": [
      "The result is:    1.33333\n"
     ]
    }
   ],
   "source": [
    "print('The result is: {r:10.5f}'.format(r = result))"
   ]
  },
  {
   "cell_type": "code",
   "execution_count": 18,
   "metadata": {},
   "outputs": [
    {
     "output_type": "stream",
     "name": "stdout",
     "text": [
      "The result is: 1.33333\n"
     ]
    }
   ],
   "source": [
    "print('The result is: {r:2.5f}'.format(r = result))"
   ]
  },
  {
   "cell_type": "code",
   "execution_count": null,
   "metadata": {},
   "outputs": [],
   "source": []
  }
 ]
}