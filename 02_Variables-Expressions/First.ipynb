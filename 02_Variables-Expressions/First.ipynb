{
 "cells": [
  {
   "cell_type": "markdown",
   "metadata": {
    "id": "JFxBK3OHuaci"
   },
   "source": [
    "### Frist Notebook\n",
    "There's My First Python Code in Google Colab"
   ]
  },
  {
   "cell_type": "code",
   "execution_count": 1,
   "metadata": {
    "colab": {
     "base_uri": "https://localhost:8080/"
    },
    "id": "-Vm6ejIEt6rP",
    "outputId": "968dba49-bdb5-4dd6-bbf2-1b2193db95ed"
   },
   "outputs": [
    {
     "name": "stdout",
     "output_type": "stream",
     "text": [
      "Hello Nice to Meet you Koushik\n"
     ]
    }
   ],
   "source": [
    "name=\"Koushik\"\n",
    "print(\"Hello\"+\" Nice to Meet you \"+name)"
   ]
  },
  {
   "cell_type": "code",
   "execution_count": 2,
   "metadata": {
    "colab": {
     "base_uri": "https://localhost:8080/"
    },
    "id": "1lbRpvXSLWXT",
    "outputId": "294fd4e3-fe0a-4f90-9454-c2a5ae8a835d"
   },
   "outputs": [
    {
     "name": "stdout",
     "output_type": "stream",
     "text": [
      "Hello 24\n"
     ]
    }
   ],
   "source": [
    "num = 24\n",
    "print(\"Hello\", num)"
   ]
  },
  {
   "cell_type": "markdown",
   "metadata": {},
   "source": [
    "### Shows the type of a variable"
   ]
  },
  {
   "cell_type": "code",
   "execution_count": 1,
   "metadata": {
    "colab": {
     "base_uri": "https://localhost:8080/"
    },
    "id": "PJYvalkpNDYM",
    "outputId": "95d77500-5e5f-48e0-c3ae-6a5bafa05dfd"
   },
   "outputs": [
    {
     "name": "stdout",
     "output_type": "stream",
     "text": [
      "<class 'str'>\n",
      "<class 'int'>\n",
      "<class 'float'>\n",
      "<class 'bool'>\n"
     ]
    }
   ],
   "source": [
    "message = \"Good morning\"\n",
    "num = 85\n",
    "pi = 3.14159\n",
    "status =False\n",
    "\n",
    "print(type(message))  # This will return a string\n",
    "print(type(num))  # This will return an integer\n",
    "print(type(pi))  # This will return a float\n",
    "print(type(status)) # This will return a bool"
   ]
  },
  {
   "cell_type": "markdown",
   "metadata": {},
   "source": [
    "### Creating list in python"
   ]
  },
  {
   "cell_type": "code",
   "execution_count": 3,
   "metadata": {
    "id": "Ke1RnGnJOWcS"
   },
   "outputs": [],
   "source": [
    "A = [ ] # This is a blank list variable\n",
    "B = [1, 23, 45, 67] # this list creates an initial list of 4 numbers.\n",
    "C = [2, 4, 'john'] # lists can contain different variable types."
   ]
  },
  {
   "cell_type": "code",
   "execution_count": 4,
   "metadata": {},
   "outputs": [
    {
     "name": "stdout",
     "output_type": "stream",
     "text": [
      "9\n",
      "27\n"
     ]
    }
   ],
   "source": [
    "print(3*3) # It means 3 multiplies with 3 ,i.e. (9)\n",
    "print(3**3) # It means 3 and power of 3 ,i.e. (27)"
   ]
  },
  {
   "cell_type": "code",
   "execution_count": 2,
   "metadata": {},
   "outputs": [
    {
     "name": "stdout",
     "output_type": "stream",
     "text": [
      "input something? 7\n"
     ]
    },
    {
     "data": {
      "text/plain": [
       "'7'"
      ]
     },
     "execution_count": 2,
     "metadata": {},
     "output_type": "execute_result"
    }
   ],
   "source": [
    "# It takes an input. It could be anything String, Int, Boolean, Float\n",
    "input('input something? ')"
   ]
  },
  {
   "cell_type": "code",
   "execution_count": 7,
   "metadata": {},
   "outputs": [
    {
     "name": "stdout",
     "output_type": "stream",
     "text": [
      "input something? 77\n",
      "88\n"
     ]
    }
   ],
   "source": [
    "hour =11\n",
    "andHour = input('input something? ')\n",
    "hour+=int(andHour)\n",
    "print(hour)"
   ]
  },
  {
   "cell_type": "code",
   "execution_count": null,
   "metadata": {},
   "outputs": [],
   "source": [
    "# 3.10 feature"
   ]
  }
 ],
 "metadata": {
  "colab": {
   "collapsed_sections": [],
   "name": "0.First.ipynb",
   "provenance": []
  },
  "interpreter": {
   "hash": "5773ed323e1048ff6285cacffa528021472c55fe9f804958497adfb057554e94"
  },
  "kernelspec": {
   "display_name": "Python 3.10.0 64-bit",
   "name": "python3"
  },
  "language_info": {
   "codemirror_mode": {
    "name": "ipython",
    "version": 3
   },
   "file_extension": ".py",
   "mimetype": "text/x-python",
   "name": "python",
   "nbconvert_exporter": "python",
   "pygments_lexer": "ipython3",
   "version": "3.10.0"
  },
  "metadata": {
   "interpreter": {
    "hash": "72461b08719ce225be709ec126b3561b2aaf3b4d14bfd5b57fa7142c13e52bfe"
   }
  }
 },
 "nbformat": 4,
 "nbformat_minor": 1
}
