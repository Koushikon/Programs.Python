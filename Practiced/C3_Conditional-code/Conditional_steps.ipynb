{
 "metadata": {
  "language_info": {
   "codemirror_mode": {
    "name": "ipython",
    "version": 3
   },
   "file_extension": ".py",
   "mimetype": "text/x-python",
   "name": "python",
   "nbconvert_exporter": "python",
   "pygments_lexer": "ipython3",
   "version": "3.9.5"
  },
  "orig_nbformat": 2,
  "kernelspec": {
   "name": "python395jvsc74a57bd072461b08719ce225be709ec126b3561b2aaf3b4d14bfd5b57fa7142c13e52bfe",
   "display_name": "Python 3.9.5 64-bit"
  },
  "metadata": {
   "interpreter": {
    "hash": "72461b08719ce225be709ec126b3561b2aaf3b4d14bfd5b57fa7142c13e52bfe"
   }
  }
 },
 "nbformat": 4,
 "nbformat_minor": 2,
 "cells": [
  {
   "cell_type": "code",
   "execution_count": 6,
   "metadata": {},
   "outputs": [
    {
     "output_type": "stream",
     "name": "stdout",
     "text": [
      "Smaller\nFancis\n"
     ]
    }
   ],
   "source": [
    "# indent block with 4 spaces\n",
    "x = 5\n",
    "if x < 10:\n",
    "    print('Smaller')\n",
    "if x > 20:\n",
    "    print('Bigger')\n",
    "\n",
    "print('Fancis')"
   ]
  },
  {
   "cell_type": "code",
   "execution_count": 7,
   "metadata": {},
   "outputs": [
    {
     "output_type": "stream",
     "name": "stdout",
     "text": [
      "Equals 5\nGreater than 4\nGrater than or equals 5\nLess than 5\nLess than or equals 5\nNot qeal 6\n"
     ]
    }
   ],
   "source": [
    "x = 5\n",
    "if x ==5:\n",
    "    print('Equals 5')\n",
    "if x >4:\n",
    "    print('Greater than 4')\n",
    "if x >= 5:\n",
    "    print('Grater than or equals 5')\n",
    "if x < 6: print('Less than 5')\n",
    "if x <= 5:\n",
    "    print('Less than or equals 5')\n",
    "if x != 6: print('Not qeal 6')"
   ]
  },
  {
   "cell_type": "code",
   "execution_count": 8,
   "metadata": {},
   "outputs": [
    {
     "output_type": "stream",
     "name": "stdout",
     "text": [
      "Before 5\nIs 5\nIs still 5\nThird 5\nAfterwards 5\nBefore 5\nAfterwards 5\n"
     ]
    }
   ],
   "source": [
    "x = 5\n",
    "print('Before 5')\n",
    "if x==5:\n",
    "    print('Is 5')\n",
    "    print('Is still 5')\n",
    "    print('Third 5')\n",
    "print('Afterwards 5')\n",
    "print('Before 5')\n",
    "if x == 6:\n",
    "    print('Is 6')\n",
    "    print('Is still 6')\n",
    "    print('Third 6')\n",
    "print('Afterwards 5')"
   ]
  },
  {
   "cell_type": "code",
   "execution_count": 9,
   "metadata": {},
   "outputs": [
    {
     "output_type": "stream",
     "name": "stdout",
     "text": [
      "Bigger than 2\nStill bigger\nDone with 2\n0\nBigger than 2\nDone with 2\n1\nBigger than 2\nDone with 2\n2\nBigger than 2\nDone with 2\n3\nBigger than 2\nDone with 2\n4\nBigger than 2\nDone with 2\nAll done\n"
     ]
    }
   ],
   "source": [
    "x = 5\n",
    "if x > 2:\n",
    "    print('Bigger than 2')\n",
    "    print('Still bigger')\n",
    "print('Done with 2')\n",
    "\n",
    "for i in range(5):\n",
    "    print(i)\n",
    "    if x > 2:\n",
    "        print('Bigger than 2')\n",
    "    print('Done with 2')\n",
    "print('All done')"
   ]
  },
  {
   "cell_type": "code",
   "execution_count": 10,
   "metadata": {},
   "outputs": [
    {
     "output_type": "stream",
     "name": "stdout",
     "text": [
      "More than 1\nLess than 100\nAll done.\n"
     ]
    }
   ],
   "source": [
    "x = 5\n",
    "if x >1:\n",
    "    print('More than 1')\n",
    "    if x < 100:\n",
    "        print('Less than 100')\n",
    "print('All done.')"
   ]
  },
  {
   "cell_type": "code",
   "execution_count": 11,
   "metadata": {},
   "outputs": [
    {
     "output_type": "stream",
     "name": "stdout",
     "text": [
      "Bigger\nAll done.\n"
     ]
    }
   ],
   "source": [
    "x = 5\n",
    "if x > 2:\n",
    "    print('Bigger')\n",
    "else:\n",
    "    print('Smaller')\n",
    "print('All done.')"
   ]
  },
  {
   "cell_type": "code",
   "execution_count": 14,
   "metadata": {},
   "outputs": [
    {
     "output_type": "stream",
     "name": "stdout",
     "text": [
      "Smaller\nAll done.\n"
     ]
    }
   ],
   "source": [
    "x = 0\n",
    "if x < 2:\n",
    "    print('Smaller')\n",
    "elif x < 10:\n",
    "    print('Medium')\n",
    "else:\n",
    "    print('large')\n",
    "print('All done.')"
   ]
  },
  {
   "cell_type": "code",
   "execution_count": 17,
   "metadata": {},
   "outputs": [
    {
     "output_type": "stream",
     "name": "stdout",
     "text": [
      "Medium\nAll done.\n"
     ]
    }
   ],
   "source": [
    "x = 5\n",
    "if x < 2:\n",
    "    print('Smaller')\n",
    "elif x < 10:\n",
    "    print('Medium')\n",
    "print('All done.')"
   ]
  },
  {
   "cell_type": "code",
   "execution_count": 22,
   "metadata": {},
   "outputs": [
    {
     "output_type": "stream",
     "name": "stdout",
     "text": [
      "Big\n"
     ]
    }
   ],
   "source": [
    "x = 16\n",
    "if x < 2: print('Small')\n",
    "elif x < 10: print('Medium')\n",
    "elif x < 20: print('Big')\n",
    "elif x < 40: print('Large')\n",
    "elif x < 100: print('Huge')\n",
    "else: print('Ginormous')"
   ]
  },
  {
   "cell_type": "code",
   "execution_count": 24,
   "metadata": {},
   "outputs": [
    {
     "output_type": "stream",
     "name": "stdout",
     "text": [
      "Tow or more\n"
     ]
    }
   ],
   "source": [
    "x = 7\n",
    "if x < 2:\n",
    "    print('Below 2')\n",
    "elif x >= 2:\n",
    "    print('Tow or more')\n",
    "else:\n",
    "    print('Something else.')"
   ]
  },
  {
   "cell_type": "code",
   "execution_count": 27,
   "metadata": {},
   "outputs": [
    {
     "output_type": "stream",
     "name": "stdout",
     "text": [
      "Something else\n"
     ]
    }
   ],
   "source": [
    "x = 26\n",
    "if x < 2: print('Below 2')\n",
    "elif x < 20: print('Below 20')\n",
    "elif x < 10: print('Below 10')\n",
    "else: print('Something else')"
   ]
  },
  {
   "cell_type": "code",
   "execution_count": 30,
   "metadata": {},
   "outputs": [
    {
     "output_type": "error",
     "ename": "ValueError",
     "evalue": "invalid literal for int() with base 10: 'Hello john'",
     "traceback": [
      "\u001b[1;31m---------------------------------------------------------------------------\u001b[0m",
      "\u001b[1;31mValueError\u001b[0m                                Traceback (most recent call last)",
      "\u001b[1;32m<ipython-input-30-754de9c41bf5>\u001b[0m in \u001b[0;36m<module>\u001b[1;34m\u001b[0m\n\u001b[0;32m      1\u001b[0m \u001b[0mastr\u001b[0m \u001b[1;33m=\u001b[0m \u001b[1;34m'Hello john'\u001b[0m\u001b[1;33m\u001b[0m\u001b[1;33m\u001b[0m\u001b[0m\n\u001b[1;32m----> 2\u001b[1;33m \u001b[0mistr\u001b[0m \u001b[1;33m=\u001b[0m \u001b[0mint\u001b[0m\u001b[1;33m(\u001b[0m\u001b[0mastr\u001b[0m\u001b[1;33m)\u001b[0m\u001b[1;33m\u001b[0m\u001b[1;33m\u001b[0m\u001b[0m\n\u001b[0m\u001b[0;32m      3\u001b[0m \u001b[0mprint\u001b[0m\u001b[1;33m(\u001b[0m\u001b[1;34m'First'\u001b[0m\u001b[1;33m,\u001b[0m \u001b[0mistr\u001b[0m\u001b[1;33m)\u001b[0m\u001b[1;33m\u001b[0m\u001b[1;33m\u001b[0m\u001b[0m\n\u001b[0;32m      4\u001b[0m \u001b[0mastr\u001b[0m \u001b[1;33m=\u001b[0m \u001b[1;34m'123'\u001b[0m\u001b[1;33m\u001b[0m\u001b[1;33m\u001b[0m\u001b[0m\n\u001b[0;32m      5\u001b[0m \u001b[0mistr\u001b[0m \u001b[1;33m=\u001b[0m \u001b[0mint\u001b[0m\u001b[1;33m(\u001b[0m\u001b[0mastr\u001b[0m\u001b[1;33m)\u001b[0m\u001b[1;33m\u001b[0m\u001b[1;33m\u001b[0m\u001b[0m\n",
      "\u001b[1;31mValueError\u001b[0m: invalid literal for int() with base 10: 'Hello john'"
     ]
    }
   ],
   "source": [
    "astr = 'Hello john'\n",
    "istr = int(astr)\n",
    "print('First', istr)\n",
    "astr = '123'\n",
    "istr = int(astr)\n",
    "print('Second', istr)"
   ]
  },
  {
   "cell_type": "code",
   "execution_count": 31,
   "metadata": {},
   "outputs": [
    {
     "output_type": "stream",
     "name": "stdout",
     "text": [
      "First -1\nSecond 123\n"
     ]
    }
   ],
   "source": [
    "astr = 'Hello john'\n",
    "try:\n",
    "    istr = int(astr)\n",
    "except:\n",
    "    istr = -1\n",
    "print('First', istr)\n",
    "astr = '123'\n",
    "try:\n",
    "    istr = int(astr)\n",
    "except:\n",
    "    istr = -1\n",
    "print('Second', istr)"
   ]
  },
  {
   "cell_type": "code",
   "execution_count": 32,
   "metadata": {},
   "outputs": [
    {
     "output_type": "stream",
     "name": "stdout",
     "text": [
      "Hello\nDone -1\n"
     ]
    }
   ],
   "source": [
    "# Don't use try and except block like this\n",
    "\n",
    "astr = 'Babloo'\n",
    "try:\n",
    "    print('Hello')\n",
    "    istr = int(astr)\n",
    "    print('There')\n",
    "except:\n",
    "    istr = -1\n",
    "\n",
    "print('Done', istr)"
   ]
  },
  {
   "cell_type": "code",
   "execution_count": 34,
   "metadata": {},
   "outputs": [
    {
     "output_type": "stream",
     "name": "stdout",
     "text": [
      "Not a number\n"
     ]
    }
   ],
   "source": [
    "rawstr = input('Enter a number: ')\n",
    "try:\n",
    "    ival = int(rawstr)\n",
    "except:\n",
    "    ival = -1\n",
    "\n",
    "if ival > 0:\n",
    "    print('Nice work')\n",
    "else:\n",
    "    print('Not a number')"
   ]
  },
  {
   "cell_type": "code",
   "execution_count": null,
   "metadata": {},
   "outputs": [],
   "source": []
  }
 ]
}