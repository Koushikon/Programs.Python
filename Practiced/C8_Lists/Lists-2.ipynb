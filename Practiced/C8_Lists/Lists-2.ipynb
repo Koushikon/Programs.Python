{
 "cells": [
  {
   "cell_type": "markdown",
   "metadata": {},
   "source": [
    "# Python Lists"
   ]
  },
  {
   "cell_type": "code",
   "execution_count": 1,
   "metadata": {},
   "outputs": [
    {
     "name": "stdout",
     "output_type": "stream",
     "text": [
      "[1, 24, 7]\n",
      "['Blue', 'Green', 'Yellow']\n",
      "[77, 'Green', 36.9, False]\n",
      "[1, 24, [101, 102], 7]\n",
      "[]\n"
     ]
    }
   ],
   "source": [
    "print([1, 24, 7])\r\n",
    "print(['Blue', 'Green', 'Yellow'])\r\n",
    "print([77, 'Green', 36.9, False])\r\n",
    "print([1, 24, [101, 102], 7])\r\n",
    "print([])"
   ]
  },
  {
   "cell_type": "code",
   "execution_count": 2,
   "metadata": {},
   "outputs": [
    {
     "name": "stdout",
     "output_type": "stream",
     "text": [
      "7\n",
      "8\n",
      "John\n",
      "False\n",
      "[59.6, 'Bye']\n",
      "11.2\n",
      "all done!\n"
     ]
    }
   ],
   "source": [
    "for i in [7, 8, 'John', False, [59.6, 'Bye'], 11.2]:\r\n",
    "    print(i)\r\n",
    "print('all done!')"
   ]
  },
  {
   "cell_type": "markdown",
   "metadata": {},
   "source": [
    "## Lists and Definite loops - Best Pals"
   ]
  },
  {
   "cell_type": "code",
   "execution_count": 3,
   "metadata": {},
   "outputs": [
    {
     "name": "stdout",
     "output_type": "stream",
     "text": [
      "Sujay\n",
      "Utpal\n",
      "Ujjal\n",
      "Raju\n",
      "Biswa\n"
     ]
    }
   ],
   "source": [
    "friends = [\"Sujay\", \"Utpal\", \"Ujjal\", \"Raju\", \"Biswa\"]\r\n",
    "for friend in friends:\r\n",
    "    print(friend)"
   ]
  },
  {
   "cell_type": "code",
   "execution_count": 4,
   "metadata": {},
   "outputs": [
    {
     "name": "stdout",
     "output_type": "stream",
     "text": [
      "Sujay\n",
      "Utpal\n",
      "Ujjal\n",
      "Raju\n",
      "Biswa\n"
     ]
    }
   ],
   "source": [
    "z = [\"Sujay\", \"Utpal\", \"Ujjal\", \"Raju\", \"Biswa\"]\r\n",
    "for x in z:\r\n",
    "    print(x)"
   ]
  },
  {
   "cell_type": "code",
   "execution_count": 5,
   "metadata": {},
   "outputs": [
    {
     "name": "stdout",
     "output_type": "stream",
     "text": [
      "Ujjal\n"
     ]
    }
   ],
   "source": [
    "friends = [\"Sujay\", \"Utpal\", \"Ujjal\", \"Raju\", \"Biswa\"]\r\n",
    "print(friends[2])"
   ]
  },
  {
   "cell_type": "code",
   "execution_count": 6,
   "metadata": {},
   "outputs": [
    {
     "ename": "TypeError",
     "evalue": "'str' object does not support item assignment",
     "output_type": "error",
     "traceback": [
      "\u001b[1;31m---------------------------------------------------------------------------\u001b[0m",
      "\u001b[1;31mTypeError\u001b[0m                                 Traceback (most recent call last)",
      "\u001b[1;32m<ipython-input-6-bd1c0b4bf50a>\u001b[0m in \u001b[0;36m<module>\u001b[1;34m\u001b[0m\n\u001b[0;32m      1\u001b[0m \u001b[0mfruit\u001b[0m \u001b[1;33m=\u001b[0m \u001b[1;34m'Jelly'\u001b[0m\u001b[1;33m\u001b[0m\u001b[1;33m\u001b[0m\u001b[0m\n\u001b[1;32m----> 2\u001b[1;33m \u001b[0mfruit\u001b[0m\u001b[1;33m[\u001b[0m\u001b[1;36m2\u001b[0m\u001b[1;33m]\u001b[0m \u001b[1;33m=\u001b[0m \u001b[1;34m'b'\u001b[0m\u001b[1;33m\u001b[0m\u001b[1;33m\u001b[0m\u001b[0m\n\u001b[0m\u001b[0;32m      3\u001b[0m \u001b[0mprint\u001b[0m\u001b[1;33m(\u001b[0m\u001b[0mfruit\u001b[0m\u001b[1;33m)\u001b[0m\u001b[1;33m\u001b[0m\u001b[1;33m\u001b[0m\u001b[0m\n",
      "\u001b[1;31mTypeError\u001b[0m: 'str' object does not support item assignment"
     ]
    }
   ],
   "source": [
    "fruit = 'Jelly'\r\n",
    "fruit[2] = 'b'\r\n",
    "print(fruit)"
   ]
  },
  {
   "cell_type": "code",
   "execution_count": null,
   "metadata": {},
   "outputs": [
    {
     "name": "stdout",
     "output_type": "stream",
     "text": [
      "jelly\n",
      "JELLY\n"
     ]
    }
   ],
   "source": [
    "x = fruit.lower()\r\n",
    "print(x)\r\n",
    "x = fruit.upper()\r\n",
    "print(x)"
   ]
  },
  {
   "cell_type": "code",
   "execution_count": null,
   "metadata": {},
   "outputs": [
    {
     "name": "stdout",
     "output_type": "stream",
     "text": [
      "[77, 55.6, 23.9, 12]\n",
      "[77, 25, 23.9, 12]\n"
     ]
    }
   ],
   "source": [
    "numbers = [77, 55.6, 23.9, 12]\r\n",
    "print(numbers)\r\n",
    "numbers[1] = 25\r\n",
    "print(numbers)"
   ]
  },
  {
   "cell_type": "code",
   "execution_count": null,
   "metadata": {},
   "outputs": [
    {
     "name": "stdout",
     "output_type": "stream",
     "text": [
      "4\n"
     ]
    }
   ],
   "source": [
    "numbers = [77, 55.6, 'bob', 12]\r\n",
    "print(len(numbers))"
   ]
  },
  {
   "cell_type": "code",
   "execution_count": null,
   "metadata": {},
   "outputs": [
    {
     "name": "stdout",
     "output_type": "stream",
     "text": [
      "3\n",
      "range(0, 3)\n"
     ]
    }
   ],
   "source": [
    "friends = [\"Sujay\", \"Ujjal\", \"Raju\"]\r\n",
    "print(len(friends))\r\n",
    "print(range(len(friends)))"
   ]
  },
  {
   "cell_type": "code",
   "execution_count": null,
   "metadata": {},
   "outputs": [
    {
     "data": {
      "text/plain": [
       "range(0, 4)"
      ]
     },
     "execution_count": 23,
     "metadata": {},
     "output_type": "execute_result"
    }
   ],
   "source": [
    "range(4)"
   ]
  },
  {
   "cell_type": "code",
   "execution_count": null,
   "metadata": {},
   "outputs": [
    {
     "name": "stdout",
     "output_type": "stream",
     "text": [
      "Happy new year, Sujay\n",
      "Happy new year, Ujjal\n",
      "Happy new year, Raju\n"
     ]
    }
   ],
   "source": [
    "friends = [\"Sujay\", \"Ujjal\", \"Raju\"]\r\n",
    "for friend in friends:\r\n",
    "    print('Happy new year,',friend)"
   ]
  },
  {
   "cell_type": "code",
   "execution_count": null,
   "metadata": {},
   "outputs": [
    {
     "name": "stdout",
     "output_type": "stream",
     "text": [
      "Happy new year, Sujay\n",
      "Happy new year, Ujjal\n",
      "Happy new year, Raju\n"
     ]
    }
   ],
   "source": [
    "friends = [\"Sujay\", \"Ujjal\", \"Raju\"]\r\n",
    "for i in range(len(friends)):\r\n",
    "    print('Happy new year,',friends[i])"
   ]
  },
  {
   "cell_type": "markdown",
   "metadata": {},
   "source": [
    "## List Methods"
   ]
  },
  {
   "cell_type": "code",
   "execution_count": null,
   "metadata": {},
   "outputs": [
    {
     "name": "stdout",
     "output_type": "stream",
     "text": [
      "['First', 1, 5.7, True, 6.5, 1, 'Second', False]\n",
      "['First', 1, 5.7, True]\n"
     ]
    }
   ],
   "source": [
    "a = ['First', 1, 5.7, True]\r\n",
    "b = [6.5, 1, 'Second', False]\r\n",
    "c = a + b\r\n",
    "print(c)\r\n",
    "print(a)"
   ]
  },
  {
   "cell_type": "code",
   "execution_count": null,
   "metadata": {},
   "outputs": [
    {
     "name": "stdout",
     "output_type": "stream",
     "text": [
      "[1]\n",
      "[6.5, 1, 'Second', False]\n",
      "[False, 3, 78]\n",
      "[6.5, 1, 'Second', False, 3, 78]\n"
     ]
    }
   ],
   "source": [
    "b = [6.5, 1, 'Second', False, 3, 78]\r\n",
    "print(b[1:2])\r\n",
    "print(b[:4])\r\n",
    "print(b[3:])\r\n",
    "print(b[:])"
   ]
  },
  {
   "cell_type": "code",
   "execution_count": null,
   "metadata": {},
   "outputs": [
    {
     "name": "stdout",
     "output_type": "stream",
     "text": [
      "<class 'list'>\n"
     ]
    },
    {
     "data": {
      "text/plain": [
       "['__add__',\n",
       " '__class__',\n",
       " '__class_getitem__',\n",
       " '__contains__',\n",
       " '__delattr__',\n",
       " '__delitem__',\n",
       " '__dir__',\n",
       " '__doc__',\n",
       " '__eq__',\n",
       " '__format__',\n",
       " '__ge__',\n",
       " '__getattribute__',\n",
       " '__getitem__',\n",
       " '__gt__',\n",
       " '__hash__',\n",
       " '__iadd__',\n",
       " '__imul__',\n",
       " '__init__',\n",
       " '__init_subclass__',\n",
       " '__iter__',\n",
       " '__le__',\n",
       " '__len__',\n",
       " '__lt__',\n",
       " '__mul__',\n",
       " '__ne__',\n",
       " '__new__',\n",
       " '__reduce__',\n",
       " '__reduce_ex__',\n",
       " '__repr__',\n",
       " '__reversed__',\n",
       " '__rmul__',\n",
       " '__setattr__',\n",
       " '__setitem__',\n",
       " '__sizeof__',\n",
       " '__str__',\n",
       " '__subclasshook__',\n",
       " 'append',\n",
       " 'clear',\n",
       " 'copy',\n",
       " 'count',\n",
       " 'extend',\n",
       " 'index',\n",
       " 'insert',\n",
       " 'pop',\n",
       " 'remove',\n",
       " 'reverse',\n",
       " 'sort']"
      ]
     },
     "execution_count": 34,
     "metadata": {},
     "output_type": "execute_result"
    }
   ],
   "source": [
    "print(type(b))\r\n",
    "dir(b)"
   ]
  },
  {
   "cell_type": "code",
   "execution_count": null,
   "metadata": {},
   "outputs": [
    {
     "name": "stdout",
     "output_type": "stream",
     "text": [
      "['Agni', 98]\n",
      "['Agni', 98, 3.78999]\n"
     ]
    }
   ],
   "source": [
    "stuff = list()\r\n",
    "stuff.append('Agni')\r\n",
    "stuff.append(98)\r\n",
    "print(stuff)\r\n",
    "stuff.append(3.78999)\r\n",
    "print(stuff)"
   ]
  },
  {
   "cell_type": "code",
   "execution_count": null,
   "metadata": {},
   "outputs": [
    {
     "name": "stdout",
     "output_type": "stream",
     "text": [
      "True\n",
      "True\n",
      "False\n",
      "True\n"
     ]
    }
   ],
   "source": [
    "bars = [6.5, 1, 'Second', False, 3, 78]\r\n",
    "print(3 in bars)\r\n",
    "print(False in bars)\r\n",
    "print(78 not in bars)\r\n",
    "print(59 not in bars)"
   ]
  },
  {
   "cell_type": "code",
   "execution_count": null,
   "metadata": {},
   "outputs": [
    {
     "name": "stdout",
     "output_type": "stream",
     "text": [
      "['Fifth', 'First', 'Fourth', 'Second', 'Third']\n"
     ]
    }
   ],
   "source": [
    "bars = ['First', 'Second', 'Third', 'Fourth', 'Fifth']\r\n",
    "bars.sort()\r\n",
    "print(bars)"
   ]
  },
  {
   "cell_type": "code",
   "execution_count": null,
   "metadata": {},
   "outputs": [
    {
     "name": "stdout",
     "output_type": "stream",
     "text": [
      "7\n",
      "56\n",
      "2\n",
      "115\n",
      "16.428571428571427\n",
      "16\n"
     ]
    }
   ],
   "source": [
    "bars = [7, 11, 23, 56, 11, 2, 5]\r\n",
    "print(len(bars))\r\n",
    "print(max(bars))\r\n",
    "print(min(bars))\r\n",
    "print(sum(bars))\r\n",
    "print(sum(bars)/len(bars))\r\n",
    "print(sum(bars)//len(bars))"
   ]
  },
  {
   "cell_type": "code",
   "execution_count": null,
   "metadata": {},
   "outputs": [
    {
     "name": "stdout",
     "output_type": "stream",
     "text": [
      "24\n",
      "8.0\n"
     ]
    }
   ],
   "source": [
    "# Calculate Average and Sum\r\n",
    "numlst = list()\r\n",
    "while True:\r\n",
    "    num = input('Enter a number: ')\r\n",
    "    if num == 'done': break\r\n",
    "    try:\r\n",
    "        num = int(num)\r\n",
    "    except:\r\n",
    "        continue\r\n",
    "    numlst.append(num)\r\n",
    "print(sum(numlst))\r\n",
    "print(sum(numlst)/len(numlst))"
   ]
  },
  {
   "cell_type": "markdown",
   "metadata": {},
   "source": [
    "## Strings and Lists"
   ]
  },
  {
   "cell_type": "code",
   "execution_count": null,
   "metadata": {},
   "outputs": [
    {
     "name": "stdout",
     "output_type": "stream",
     "text": [
      "[\"That's\", 'the', '21st', 'centuary', 'Game']\n"
     ]
    }
   ],
   "source": [
    "abc = 'That\\'s the 21st centuary Game'\r\n",
    "strlist = abc.split()\r\n",
    "print(strlist)"
   ]
  },
  {
   "cell_type": "code",
   "execution_count": null,
   "metadata": {},
   "outputs": [
    {
     "name": "stdout",
     "output_type": "stream",
     "text": [
      "That's\n",
      "the\n",
      "21st\n",
      "centuary\n",
      "Game\n"
     ]
    }
   ],
   "source": [
    "for i in strlist:\r\n",
    "    print(i)"
   ]
  },
  {
   "cell_type": "code",
   "execution_count": null,
   "metadata": {},
   "outputs": [
    {
     "name": "stdout",
     "output_type": "stream",
     "text": [
      "['a', 'lot', 'of', 'space']\n"
     ]
    }
   ],
   "source": [
    "line = 'a lot       of space'\r\n",
    "thing = line.split()\r\n",
    "print(thing)"
   ]
  },
  {
   "cell_type": "code",
   "execution_count": null,
   "metadata": {},
   "outputs": [
    {
     "name": "stdout",
     "output_type": "stream",
     "text": [
      "['olaf,hanna,naruto,anyone']\n"
     ]
    }
   ],
   "source": [
    "line = 'olaf,hanna,naruto,anyone'\r\n",
    "thing = line.split()\r\n",
    "print(thing)"
   ]
  },
  {
   "cell_type": "code",
   "execution_count": 1,
   "metadata": {},
   "outputs": [
    {
     "name": "stdout",
     "output_type": "stream",
     "text": [
      "['olaf', 'hanna', 'naruto', 'anyone']\n"
     ]
    }
   ],
   "source": [
    "line = 'olaf,hanna,naruto,anyone'\r\n",
    "thing = line.split(',')\r\n",
    "print(thing)"
   ]
  },
  {
   "cell_type": "code",
   "execution_count": 2,
   "metadata": {},
   "outputs": [
    {
     "name": "stdout",
     "output_type": "stream",
     "text": [
      "Sat\n",
      "Fri\n",
      "Fri\n",
      "Fri\n",
      "Fri\n",
      "Fri\n",
      "Fri\n",
      "Fri\n",
      "Fri\n",
      "Fri\n",
      "Fri\n",
      "Fri\n",
      "Fri\n",
      "Fri\n",
      "Fri\n",
      "Fri\n",
      "Fri\n",
      "Fri\n",
      "Fri\n",
      "Fri\n",
      "Fri\n",
      "Thu\n",
      "Thu\n",
      "Thu\n",
      "Thu\n",
      "Thu\n",
      "Thu\n"
     ]
    }
   ],
   "source": [
    "fhand = open('./../../_files/4-./../../_files/4-mbox-short.txt')\r\n",
    "for line in fhand:\r\n",
    "    if not line.startswith('From '):\r\n",
    "        continue\r\n",
    "    word = line.split()\r\n",
    "    line.rstrip()\r\n",
    "    print(word[2])"
   ]
  },
  {
   "cell_type": "markdown",
   "metadata": {},
   "source": [
    "## The double Split Pattern"
   ]
  },
  {
   "cell_type": "code",
   "execution_count": 3,
   "metadata": {},
   "outputs": [
    {
     "name": "stdout",
     "output_type": "stream",
     "text": [
      "uct.ac.za\n",
      "media.berkeley.edu\n",
      "umich.edu\n",
      "iupui.edu\n",
      "umich.edu\n",
      "iupui.edu\n",
      "iupui.edu\n",
      "iupui.edu\n",
      "umich.edu\n",
      "umich.edu\n",
      "umich.edu\n",
      "umich.edu\n",
      "iupui.edu\n",
      "umich.edu\n",
      "caret.cam.ac.uk\n",
      "gmail.com\n",
      "uct.ac.za\n",
      "uct.ac.za\n",
      "uct.ac.za\n",
      "uct.ac.za\n",
      "uct.ac.za\n",
      "media.berkeley.edu\n",
      "media.berkeley.edu\n",
      "media.berkeley.edu\n",
      "iupui.edu\n",
      "iupui.edu\n",
      "iupui.edu\n"
     ]
    }
   ],
   "source": [
    "fhand = open('./../../_files/4-./../../_files/4-mbox-short.txt')\r\n",
    "for line in fhand:\r\n",
    "    if not line.startswith('From '):\r\n",
    "        continue\r\n",
    "    word = line.split()\r\n",
    "    email = word[1].split('@')\r\n",
    "    print(email[1])"
   ]
  },
  {
   "cell_type": "code",
   "execution_count": null,
   "metadata": {},
   "outputs": [],
   "source": []
  }
 ],
 "metadata": {
  "interpreter": {
   "hash": "72461b08719ce225be709ec126b3561b2aaf3b4d14bfd5b57fa7142c13e52bfe"
  },
  "kernelspec": {
   "display_name": "Python 3.9.5 64-bit",
   "name": "python3"
  },
  "language_info": {
   "codemirror_mode": {
    "name": "ipython",
    "version": 3
   },
   "file_extension": ".py",
   "mimetype": "text/x-python",
   "name": "python",
   "nbconvert_exporter": "python",
   "pygments_lexer": "ipython3",
   "version": "3.9.5"
  },
  "orig_nbformat": 4
 },
 "nbformat": 4,
 "nbformat_minor": 2
}